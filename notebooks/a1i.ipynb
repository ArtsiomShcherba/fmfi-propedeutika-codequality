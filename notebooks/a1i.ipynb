{
  "cells": [
    {
      "cell_type": "markdown",
      "metadata": {
        "id": "TYEZgSU1-NXe"
      },
      "source": [
        "# Methods in Bioinformatics, Homework 1 for Computer Science Students, 2024/25\n",
        "\n",
        "## Introduction\n",
        "In this homework, your task is to implement and evaluate algorithms for comparing two genomes based on their sets of $k$-mers. Tasks 1 and 2 ask you to implement several techniques covered in [Tutorial 5](https://fmfi-compbio.github.io/mbi/notes/ci-aln2.html) for CS students. The remaining tasks ask you to observe the behavior of these techniques in terms of accuracy, running time and memory on real and simulated data.\n",
        "\n",
        "If you want to read more about the concepts from this homework, check these sources\n",
        "* Jaccard index: https://en.wikipedia.org/wiki/Jaccard_index, https://www.statology.org/jaccard-similarity/\n",
        "* Minimizers: https://homolog.us/blogs/bioinfo/2017/10/25/intro-minimizer/</li>\n",
        "\n",
        "## Use of AI and other sources\n",
        "\n",
        "* As per [course rules](https://fmfi-compbio.github.io/mbi/Rules.html#academic-integrity) you are allowed to discuss the homework with your classmates in general terms, but all your code and texts should be **your own work**. In the bonus version of task 2.1 you are allowed to research the algorithm in existing sources as explained below.  In **tasks 1 and 2 do not use AI to generate your code, switch off AI assistant** in your working environment (e.g. in Google Colab, in the main menu Tools -> Settings -> AI assistence -> Hide generative AI features). In tasks 3-6 you may use AI to help with setting up appropriate plots, but if you do, acknowledge such help in comments in your code and make sure that the plots correctly display the desired quantities. Your discussion should be written in your own words, do not generate it using AI.   \n",
        "\n",
        "\n",
        "## Technical requirements and recommendations\n",
        "\n",
        "* This notebook contains the task description, some useful helper functions, as well as some code to test your implementation in Tasks 1 and 2. Please do not modify the provided code and write your code in the indicated space. Run all cells, included those with pur code.\n",
        "* In your code for tasks 1-2, use only libraries already imported in the provided code and functions provided by us, such as `canonical` and `shash`.\n",
        "* In tasks 3-6 you may use also other libraries. Measure all required quantities in the notebook and either visualize them directly there, or if you prefer, you can create final visualizations in another system.\n",
        "* Your notebook should be executable on Google Colab. If you use any libraries not available on Colab by default, install them using `pip install` commands included in the notebook (section Libraries for tasks 3-6). If you use a different environment to develop your code, test it in Colab before submitting.\n",
        "* To avoid running out of memory, we recommend deleting variables that are no longer needed using `del` and occasionally calling `gc.collect()` to run garbage collection and free unused memory.\n",
        "* Some computations may take a long time to run. Leave sufficient time for finish the assignment. If the computation takes too long, you may try to improve your implementation.\n",
        "\n",
        "\n",
        "## Submitting\n",
        "\n",
        "* Submit the notebook with your code as an ipynb file. All cells should be executed with output shown.\n",
        "* Tasks 3-6 ask you make some measurements, summarize them in tables or plots and discuss your results. You can include all these visualizations and discussion directly in this notebook, or if you prefer, you can submit them as a separate pdf (if you make plots in a different software).\n",
        "* Text parts of the homework can be written in English or Slovak. The individual plots and tables should be properly annotated (axis labels, legends and titles or captions)."
      ]
    },
    {
      "cell_type": "markdown",
      "metadata": {
        "id": "HI7yrUos_rmt"
      },
      "source": [
        "## Module imports (do not modify)\n",
        "\n",
        "Use only modules listed below in parts 1 and 2. The code below uses pip command to install the Biopython library. If you have this library installed, you can comment out the line starting `!pip`."
      ]
    },
    {
      "cell_type": "code",
      "execution_count": 1,
      "metadata": {
        "colab": {
          "base_uri": "https://localhost:8080/"
        },
        "id": "ez0WRmTjyk1V",
        "outputId": "cabb7d02-52a9-4d8a-a3ec-0324020b9688"
      },
      "outputs": [
        {
          "output_type": "stream",
          "name": "stdout",
          "text": [
            "Collecting biopython\n",
            "  Downloading biopython-1.84-cp310-cp310-manylinux_2_17_x86_64.manylinux2014_x86_64.whl.metadata (12 kB)\n",
            "Requirement already satisfied: numpy in /usr/local/lib/python3.10/dist-packages (from biopython) (1.26.4)\n",
            "Downloading biopython-1.84-cp310-cp310-manylinux_2_17_x86_64.manylinux2014_x86_64.whl (3.2 MB)\n",
            "\u001b[2K   \u001b[90m━━━━━━━━━━━━━━━━━━━━━━━━━━━━━━━━━━━━━━━━\u001b[0m \u001b[32m3.2/3.2 MB\u001b[0m \u001b[31m28.1 MB/s\u001b[0m eta \u001b[36m0:00:00\u001b[0m\n",
            "\u001b[?25hInstalling collected packages: biopython\n",
            "Successfully installed biopython-1.84\n"
          ]
        }
      ],
      "source": [
        "# imports\n",
        "import io\n",
        "import os\n",
        "import re\n",
        "import gc\n",
        "import sys\n",
        "import random\n",
        "import hashlib\n",
        "import time\n",
        "# numba library can precompile and speed up your code\n",
        "from numba import njit\n",
        "\n",
        "# libraries potentially useful in parts 1 and 2\n",
        "import heapq\n",
        "import itertools\n",
        "from collections import deque\n",
        "from collections.abc import Callable\n",
        "\n",
        "# biopython library is used for parsing the input file\n",
        "# The line below instals it. You may comment this line\n",
        "# if it is already installed in your environment.\n",
        "!pip install biopython\n",
        "from Bio import SeqIO"
      ]
    },
    {
      "cell_type": "markdown",
      "metadata": {
        "id": "-DQkQPcWJ5NH"
      },
      "source": [
        "## Function definitions (do not modify)\n",
        "\n",
        "We provide the following functions for you to use in your code:\n",
        "* Function `canonical` returns the *canonical* version of an input $k$-mer defined as follows. For a $k$-mer $w$, let $w’$ be its reverse complement (obtained by reversing the string and exchanging complementary bases A<->T, C<->G). The canonical $k$-mer $w$ is then the smaller of $w$ and $w’$ in the lexicographic (alphabetical) order. For example, 4-mer CACT has reverse complement AGTG, which happens to be lexicographically smaller than CACT, and thus it is its canonical version.\n",
        "* Function `full_kmer_set` gets a string consisting of letters A,C,G,T representing a single genome and integer `k` and returns a Python set of all canonical $k$-mers of the input string. Canonical $k$-mers help us to represent both strands of the DNA molecule (the genome and its reverse complement will produce the same set of canonical $k$-mers).\n",
        "* Function `shash` computes a hash value for a $k$-mer. Use it for minimizer computations.\n",
        "* Function `debug_hash` is a simple hash function which simply encodes a k-mer as a number. Use to debug your minimizer code."
      ]
    },
    {
      "cell_type": "code",
      "execution_count": 2,
      "metadata": {
        "colab": {
          "base_uri": "https://localhost:8080/"
        },
        "id": "jnBpsn09-Zu4",
        "outputId": "e22c257b-be8e-4af0-b8e7-2a111915ee81"
      },
      "outputs": [
        {
          "output_type": "stream",
          "name": "stdout",
          "text": [
            "['A->T', 'C->G', 'G->C', 'T->A']\n",
            "_reverse_complement('AGTG')='CACT'\n",
            "_reverse_complement('CACT')='AGTG'\n",
            "canonical('AGTG')='AGTG'\n",
            "canonical('CACT')='AGTG'\n",
            "list(full_kmer_set('CCAAGGTCCATC', k=3))=['AGG', 'CAA', 'CCA', 'ATG', 'ATC', 'GGA', 'AAG', 'GAC', 'ACC']\n",
            "shash('A' * 13)=281618300821, shash('ACTACTACTACTG')=687357743147 shash('T'*12 + 'A')=912656793854\n",
            "debug_hash('AAA')=0, debug_hash('AAG')=2, debug_hash('CAA')=16, debug_hash('TTT')=63\n"
          ]
        }
      ],
      "source": [
        "@njit\n",
        "def c(x: str) -> str:\n",
        "  \"\"\"Returns complement of a single DNA base\"\"\"\n",
        "  if x == 'A':\n",
        "    return 'T'\n",
        "  elif x == 'T':\n",
        "    return 'A'\n",
        "  elif x == 'C':\n",
        "    return 'G'\n",
        "  elif x == 'G':\n",
        "    return 'C'\n",
        "  else:\n",
        "    return \"\"\n",
        "\n",
        "\n",
        "@njit\n",
        "def _reverse_complement(seq: str) -> str:\n",
        "  \"\"\"Returns reverse complement (opposite strand) of a DNA sequence\"\"\"\n",
        "  return \"\".join([c(seq[i]) for i in range(len(seq)-1, -1, -1)])\n",
        "\n",
        "\n",
        "@njit\n",
        "def canonical(kmer: str) -> str:\n",
        "  \"\"\"Returns a canonical k-mer for the input k-mer. \"\"\"\n",
        "  comp_kmer = _reverse_complement(kmer)\n",
        "  if kmer <= comp_kmer:\n",
        "    return kmer\n",
        "  else:\n",
        "    return comp_kmer\n",
        "\n",
        "\n",
        "@njit\n",
        "def full_kmer_set(sequence: str, k: int) -> set[str]:\n",
        "  \"\"\"Function gets a string consisting of letters A,C,G,T representing a single genome\n",
        "  and integer k and returns a Python set of all canonical k-mers of the input string.\"\"\"\n",
        "  result = set()\n",
        "  for start in range(len(sequence) - k + 1):\n",
        "    result.add(canonical(sequence[start:start+k]))\n",
        "  return result\n",
        "\n",
        "\n",
        "def shash(seq: str) -> int:\n",
        "  \"\"\"A hash function to be used for hashing k-mers in minimizers and MinHash\"\"\"\n",
        "  hasher = hashlib.blake2b(salt=b'')\n",
        "  hasher.update(seq.encode(encoding='utf-8'))\n",
        "  d = hasher.digest()\n",
        "  result = int.from_bytes(d[:5], byteorder='little')\n",
        "  return result\n",
        "\n",
        "def debug_hash(seq: str) -> int:\n",
        "  \"\"\"A simple hash function which encodes DNA as a base-4 number\n",
        "  with A being digit 0, C 1, G 2, T 3. This is to be used for debugging minimizers\"\"\"\n",
        "  base2num = {'A':0, 'C':1, 'G':2, 'T':3}\n",
        "  result = 0;\n",
        "  for base in seq:\n",
        "    result = result*4 + base2num[base]\n",
        "  return result\n",
        "\n",
        "# testing\n",
        "print(f\"{[x + '->' + c(x) for x in 'ACGT']}\")\n",
        "print(f\"{_reverse_complement('AGTG')=}\")\n",
        "print(f\"{_reverse_complement('CACT')=}\")\n",
        "print(f\"{canonical('AGTG')=}\")\n",
        "print(f\"{canonical('CACT')=}\")\n",
        "print(f\"{list(full_kmer_set('CCAAGGTCCATC', k=3))=}\")\n",
        "print(f\"{shash('A' * 13)=}, {shash('ACTACTACTACTG')=} {shash('T'*12 + 'A')=}\")\n",
        "print(f\"{debug_hash('AAA')=}, {debug_hash('AAG')=}, {debug_hash('CAA')=}, {debug_hash('TTT')=}\")"
      ]
    },
    {
      "cell_type": "markdown",
      "metadata": {
        "id": "DjdbkV5eA4a6"
      },
      "source": [
        "## Downloading genomes (do not modify)\n",
        "\n",
        "This part downloads some real genomes as follows.\n",
        "\n",
        "* It uses `read_fasta` function to download a file from URL `http://compbio.fmph.uniba.sk/vyuka/mbi-data/du1/bacteria.fasta`. This file contains several bacterial genomes in the FASTA format. The function returns two lists stored in variables `real_genomes` and `real_genome_descriptions`.\n",
        "  * The first variable is a list of strings consisting of letters A,C,G,T. (Some of these genomes contain unknown bases denoted as N; these are for simplicity omitted.)\n",
        "  * The second variable is a list of strings of the same length containing a text description of the sequence and its identifier from the RefSeq database.\n",
        "* We will refer to these genomes by numbers $0,1,\\dots$ based on their index in the two lists.\n",
        "* When you run this cell first time, the sequences will be downloaded from the internet and saved to `bacteria.fasta` file. Subsequently, this file will be read instead.\n"
      ]
    },
    {
      "cell_type": "code",
      "execution_count": 3,
      "metadata": {
        "colab": {
          "base_uri": "https://localhost:8080/"
        },
        "id": "dSKRcOB8Aakf",
        "outputId": "de8b0f10-0392-4fde-a946-3126a4d2621e"
      },
      "outputs": [
        {
          "output_type": "stream",
          "name": "stderr",
          "text": [
            "Parsed genome #0: NC_000913.3 Escherichia coli str. K-12 substr. MG1655, complete genome...\n",
            "Parsed genome #1: NZ_CP031922.1 Escherichia coli O26:H11 strain FWSEC0001 chromosome, co...\n",
            "Parsed genome #2: NZ_CP083638.1 Escherichia fergusonii strain FDAARGOS_1499 chromosome, ...\n",
            "Parsed genome #3: NC_007795.1 Staphylococcus aureus subsp. aureus NCTC 8325 chromosome, ...\n",
            "Parsed genome #4: NC_016845.1 Klebsiella pneumoniae subsp. pneumoniae HS11286 chromosome...\n",
            "Parsed genome #5: NC_002695.2 Escherichia coli O157:H7 str. Sakai DNA, complete genome...\n",
            "Parsed genome #6: NZ_CP009756.1 Enterobacter cloacae strain GGT036 chromosome, complete ...\n",
            "Parsed genome #7: NZ_AP019632.1 Enterobacter asburiae strain 1808-013 chromosome, comple...\n",
            "Parsed genome #8: NZ_AP022508.1 Enterobacter bugandensis strain STN0717-56 chromosome, c...\n"
          ]
        },
        {
          "output_type": "stream",
          "name": "stdout",
          "text": [
            "Downloading genomes took 3.53389310836792 seconds\n"
          ]
        }
      ],
      "source": [
        "def read_fasta(url=None, filename=None):\n",
        "  \"\"\"Function reads sequences in a FASTA format and returns them as a list of strings consisting of letters A,C,G,T.\n",
        "  It also returns a list of descriptions of these sequences. If filename is given and it exists,\n",
        "  sequences are read from the file. Otherwise they are read from the URL and written to the file.\"\"\"\n",
        "\n",
        "  # open file or url\n",
        "  handle = None\n",
        "  output_handle = None\n",
        "  if filename is not None and os.path.isfile(filename) \\\n",
        "  and os.path.getsize(filename) > 0:\n",
        "    handle = open(filename, 'r')\n",
        "  elif url is not None:\n",
        "    from urllib.request import urlopen\n",
        "    handle = io.TextIOWrapper(urlopen(url), encoding='utf-8')\n",
        "    if filename is not None:\n",
        "      output_handle = open(filename, \"w\")\n",
        "\n",
        "  real_genomes, real_genome_descriptions = [], []\n",
        "  for gnum, genome in enumerate(SeqIO.parse(handle, \"fasta\")):\n",
        "    if output_handle is not None:\n",
        "      SeqIO.write(genome, output_handle, \"fasta\")\n",
        "    sequence = str(genome.seq).replace('N', '')\n",
        "    if not re.match(r'\\A[ACGT]+\\Z', sequence):\n",
        "      raise ValueError(f\"Bad genome characters in the input file\")\n",
        "    description = genome.description\n",
        "    real_genomes.append(sequence)\n",
        "    real_genome_descriptions.append(description)\n",
        "    print(f\"Parsed genome #{gnum}: {description[:70]}...\", file=sys.stderr)\n",
        "\n",
        "  if output_handle is not None:\n",
        "    output_handle.close()\n",
        "  handle.close()\n",
        "\n",
        "  return real_genomes, real_genome_descriptions\n",
        "\n",
        "\n",
        "start = time.time()\n",
        "url = \"http://compbio.fmph.uniba.sk/vyuka/mbi-data/du1/bacteria.fasta\"\n",
        "real_genomes, real_genome_descriptions = read_fasta(url=url, filename=\"bacteria.fasta\")\n",
        "if len(real_genomes) != 9:\n",
        "  raise Exception(\"Some problem with reading sequences, perhaps delete bacteria.fasta file\")\n",
        "gc.collect()\n",
        "end = time.time()\n",
        "print(f\"Downloading genomes took {end-start} seconds\")"
      ]
    },
    {
      "cell_type": "markdown",
      "metadata": {
        "id": "-wr0fquBJ5NJ"
      },
      "source": [
        "## Creating mutated genomes (do not modify)\n",
        "\n",
        "This part will create some artificially mutated versions of genome 0 downloaded in the previous section\n",
        "* Function `mutate` gets a string consisting of letters A,C,G,T representing a single genome and a mutation probability $p$ (a real number between 0 and 1). For each base\n",
        "of the input string it mutate it with probability $p$ and leave it as it was with probability $1-p$. If the base is mutated, it is replaced by a randomly chosen base from the remaining three.\n",
        "* We create artificially mutated versions of genome 0 with mutation probabilities $p$=0.01, 0.05, 0.1, 0.2, 0.3, 0.4. As a result you have 6 new genomes stored in list `mutated_genomes`. The corresponding values of $p$ are in list `mutation_probabilities`.\n",
        "* To make the results reproducible, we set random seed to 47. Do not change this value."
      ]
    },
    {
      "cell_type": "code",
      "execution_count": 14,
      "metadata": {
        "colab": {
          "base_uri": "https://localhost:8080/"
        },
        "id": "9FISYT45Kme2",
        "outputId": "463add7e-fda1-4cc6-9b3b-5730c8db5a1e"
      },
      "outputs": [
        {
          "output_type": "stream",
          "name": "stdout",
          "text": [
            "[mutate('AAAACCCCGGGGTTTT', p=0.25) for _ in range(5)]=['AAAACCCCGGGGTCTT', 'GATAGTCCGGCGTTTT', 'AAACCTCCGCGGTACT', 'AATACCAAGGAGTTGT', 'AAAACCCGAGGGTTTT']\n"
          ]
        },
        {
          "output_type": "execute_result",
          "data": {
            "text/plain": [
              "15241"
            ]
          },
          "metadata": {},
          "execution_count": 14
        }
      ],
      "source": [
        "@njit\n",
        "def mutate(sequence: str, p: float) -> str:\n",
        "  \"\"\"Function gets a string consisting of letters A,C,G,T representing a single genome and a mutation probability p (a real number between 0 and 1).\n",
        "  For each base of the input string it will decide with probability p to mutate it or 1-p to leave it as it was.\n",
        "  If the base is mutated, it is replaced by a randomly chosen base from the remaining three.\"\"\"\n",
        "  others = {x: \"ACGT\".replace(x, \"\") for x in \"ACGT\"}\n",
        "  result = \"\".join([x if random.random() > p else others[x][random.randint(0, 2)] for x in sequence])\n",
        "  return result\n",
        "\n",
        "# testing function\n",
        "print(f\"{[mutate('AAAACCCCGGGGTTTT', p=0.25) for _ in range(5)]=}\")\n",
        "\n",
        "# creating needed variables\n",
        "mutation_probabilities = [0.01, 0.05, 0.1, 0.2, 0.3, 0.4]\n",
        "random.seed(47)\n",
        "mutated_genomes = [mutate(real_genomes[0], p) for p in mutation_probabilities]\n",
        "gc.collect()"
      ]
    },
    {
      "cell_type": "markdown",
      "metadata": {
        "id": "1pKbHdRD9_Eg"
      },
      "source": [
        "## Task 1: Jaccard similarity\n",
        "\n",
        "In this task we write functions for comparing two DNA sequences based on the Jaccard similarity of their sets of canonical $k$-mers. More similar sequence typically have a higher Jaccard similarity (more on this in Task 3)."
      ]
    },
    {
      "cell_type": "markdown",
      "metadata": {
        "id": "oHRZ7vbvJ5NM"
      },
      "source": [
        "### Task 1.1: Implement function `jaccard`\n",
        "\n",
        "Implement function `jaccard` which gets two sets and computes their Jaccard similarity by considering the sizes of their intersection and union. You can assume that the union of the two sets is non-empty."
      ]
    },
    {
      "cell_type": "code",
      "execution_count": 5,
      "metadata": {
        "id": "2QOquCBrL5wh"
      },
      "outputs": [],
      "source": [
        "def jaccard(first_set: set[str], second_set: set[str]) -> float:\n",
        "  \"\"\"Function gets two sets and computes their Jaccard similarity.\"\"\"\n",
        "  return float(len(first_set&second_set)) / len(first_set|second_set)\n"
      ]
    },
    {
      "cell_type": "markdown",
      "metadata": {
        "id": "tWROAtn2J5NM"
      },
      "source": [
        "### Task 1.2: Implement function `kmer_jaccard`\n",
        "\n",
        "Implement function `kmer_jaccard` which gets one DNA sequence, a list of $n$ DNA sequences and a value of `k`, converts all sequences to k-mer sets using provided function `full_kmer_set` and computes a list of $n$ Jaccard similarities of the first sequence compared each of the sequences in the list. You can assume that all sequences have length at least $k$."
      ]
    },
    {
      "cell_type": "code",
      "execution_count": 6,
      "metadata": {
        "id": "090OIp4QJ5NN"
      },
      "outputs": [],
      "source": [
        "def kmer_jaccard(first_sequence: str, sequence_list: list[str], k: int) -> list[float]:\n",
        "  set1 = full_kmer_set(first_sequence,k)\n",
        "  ans = []\n",
        "  for sequence in sequence_list:\n",
        "    cur_set = full_kmer_set(sequence,k)\n",
        "    ans.append(jaccard(set1,cur_set))\n",
        "  return ans"
      ]
    },
    {
      "cell_type": "markdown",
      "metadata": {
        "id": "YjzfP2l8J5NN"
      },
      "source": [
        "### Task 1.3: Test your code on small tests\n",
        "\n",
        "Run your function on small debuging inputs below and check if the answer is correct. Do not modify the tests, but you can add more of them."
      ]
    },
    {
      "cell_type": "code",
      "execution_count": 7,
      "metadata": {
        "colab": {
          "base_uri": "https://localhost:8080/"
        },
        "id": "v1V7J1GRJ5NN",
        "outputId": "a9c57ba0-5ad0-4ea2-884a-ee631e7aadd4"
      },
      "outputs": [
        {
          "output_type": "stream",
          "name": "stdout",
          "text": [
            "jaccard(setA, setA)=1.0 (should be 1.0)\n",
            "jaccard(setA, setB)=0.0 (should be 0.0)\n",
            "jaccard(setA, setAB)=0.5 (should be 0.5)\n",
            "jaccard(setA, setABC)=0.3333333333333333 (should be 0.3333333333333333)\n",
            "jaccard(setAB, setA)=0.5 (should be 0.5)\n",
            "jaccard(setAB, setABC)=0.6666666666666666 (should be 0.6666666666666666)\n",
            "kmer_jaccard(seq1, [seq1, seq2, seq3, seq4], 3)=[1.0, 1.0, 0.14285714285714285, 0.0]\n",
            "  results should be [1.0, 1.0, 0.14285714285714285, 0.0]\n"
          ]
        }
      ],
      "source": [
        "setA = {'abc'}\n",
        "setB = {'bb'}\n",
        "setAB = {'abc','bb'}\n",
        "setABC = {'abc', 'bb', 'cde'}\n",
        "print(f\"{jaccard(setA, setA)=} (should be {1.0})\")\n",
        "print(f\"{jaccard(setA, setB)=} (should be {0.0})\")\n",
        "print(f\"{jaccard(setA, setAB)=} (should be {1/2})\")\n",
        "print(f\"{jaccard(setA, setABC)=} (should be {1/3})\")\n",
        "print(f\"{jaccard(setAB, setA)=} (should be {1/2})\")\n",
        "print(f\"{jaccard(setAB, setABC)=} (should be {2/3})\")\n",
        "\n",
        "seq1 = \"AAACCC\"\n",
        "seq2 = \"GGGTTT\"  # reverse complement of seq1, identical set of canonical k-mers\n",
        "seq3 = \"AAAGTG\"\n",
        "seq4 = \"ACAC\"\n",
        "print(f\"{kmer_jaccard(seq1, [seq1, seq2, seq3, seq4], 3)=}\")\n",
        "print(f\"  results should be {[1.0, 1.0, 1/7, 0.0]}\")"
      ]
    },
    {
      "cell_type": "markdown",
      "metadata": {
        "id": "kgR4yy4S-CQB"
      },
      "source": [
        "## Task 2: Minimizers\n",
        "\n",
        "In this task we write an alternative way of comparing two sequences using Jaccard similarity of their sets of minimizers instead of all $k$-mers. The set of minimizers is potentially smaller, thus saving time and memory if many sets are compared to each other.\n"
      ]
    },
    {
      "cell_type": "markdown",
      "metadata": {
        "id": "zxG543DkJ5NO"
      },
      "source": [
        "### Task 2.1 Implement function `minimizer_set`\n",
        "\n",
        "Implement function `minimizer_set` which gets a string consisting of letters A,C,G,T, two parameters `k` and `s` and hash function `h`. For each sliding window of `s` consecutive `k`-mers, it computes the canonical versions of these $k$-mers, applies function `h` on each canonical $k$-mer, chooses the canonical $k$-mer with the smallest hash value and stores this $k$-mer in the set. You can assume that the length of the sequence is at least $k-s+1$.\n",
        "\n",
        "For example let $k=2$, $s=3$ and we use the `debug_hash` to find minimizers for sequence 'AAGGG'.  We first take first three $2$-mers 'AA', 'AG', 'GG'. Their canonical versions are 'AA', 'AG', 'CC'. Their hash values are  0, 2, and 5. The minimum is 0 corresponding to canonical $k$-mer 'AA'. The next sliding window has canonical $k$-mers 'AG', 'CC', 'CC' with hash values 2, 5, 5. Now canonical $k$-mer AG is the minimizer. The resulting set will be therefore {'AA', 'AG'}.\n",
        "\n",
        "The running time of your function on a sequence of length $n$ should be at most $O(n(k+s))$ assuming that a hash function and canonical version of one $k$-mer can be computed in $O(k)$ time. For bonus points you can try to implement a more efficient version running in $O(n(k+\\log s))$ time or even $O(nk)$ time. You can try to find the $O(nk)$ time algorithm by searching in literature / on the internet, if you wish, but cite your source. You should understand the algorithm, implement it in your own code and explain it in your own words below."
      ]
    },
    {
      "cell_type": "code",
      "execution_count": 8,
      "metadata": {
        "id": "yfVKMRSSP-k7"
      },
      "outputs": [],
      "source": [
        "def minimizer_set(sequence: str, k: int, s: int,\n",
        "                  h: Callable[[str], int]) -> set[str]:\n",
        "  \"\"\"Function gets a string consisting of letters A,C,G,T,\n",
        "  two parameters k and s and hash function h\n",
        "  and returns a Python set of all minimizers of the string. \"\"\"\n",
        "  if len(sequence) < k + s - 1 or k < 1 or s < 1:\n",
        "    raise ValueError(\"Sequence must have length at least k + s -1 for k>=1, s>=1.\")\n",
        "\n",
        "  ans = set()\n",
        "  cur_string = sequence[:k]\n",
        "  cur = [cur_string]\n",
        "  for i in range(k,len(sequence)):\n",
        "    cur_string+=sequence[i]\n",
        "    cur_string=cur_string[1:]\n",
        "    cur.append(canonical(cur_string))\n",
        "    if(len(cur)>s):\n",
        "      cur.pop(0)\n",
        "    if(len(cur)==s):\n",
        "      mn = 1e9\n",
        "      toAdd = None\n",
        "      for seq in cur:\n",
        "        if h(seq)<mn:\n",
        "          mn = h(seq)\n",
        "          toAdd = seq\n",
        "      ans.add(toAdd)\n",
        "\n",
        "\n",
        "\n",
        "\n",
        "  return ans"
      ]
    },
    {
      "cell_type": "markdown",
      "metadata": {
        "id": "-f23QlXsuRj_"
      },
      "source": [
        "### Task 2.2\n",
        "\n",
        "Briefly explain the algorithm used by your function above and what is its running time in terms of $n$, $k$ and $s$. Write your explanation directly here or to the accompanying pdf document.\n",
        "\n",
        "We go through sequence and store the substring with length $k$ that ends in current index. For all $k$-mers we went through we store at most $s$ consecutive ones.\n",
        "Then if we already have $s$ $k$-mers we count minimizer for them.\n",
        "\n",
        "This solution have complexity $O(n*(s+k))$ (Main loop with $n$ iterations, deleting first element of string by $O(max$_$len)$, where max_len=k, and linear search in list with maximal size $s$).\n",
        "\n",
        "This complexity could be easily improved to $O(n*log(s))$ by usage another libs. Firsty, we could use SortedList and store pairs (value,seq) in cur. Sorting will be done by value, finding minimizer is $O(1)$ (it's always first element), insert and erase is $O(log (s))$.\n",
        "Then we can use another structure for cur_string where deleting first element is $O(1)$ (for example Queue), then final complexity will be $O(n)*((O(s)+O(1))+O(1))=O(n*log(s))$."
      ]
    },
    {
      "cell_type": "markdown",
      "metadata": {
        "id": "7ucxg3WFqGnr"
      },
      "source": [
        "### Task 2.3: Implement function `minimizer_jaccard`\n",
        "\n",
        "Implement function `minimizer_jaccard` which works similarly to `kmer_jaccard` in task 1.2, but runs `minimizer_set` instead of `full_kmer_set`. For this purpose it also gets value `s` and hash function `h` as parameters."
      ]
    },
    {
      "cell_type": "code",
      "execution_count": 9,
      "metadata": {
        "id": "zLFGsgloqlmh"
      },
      "outputs": [],
      "source": [
        "def minimizer_jaccard(first_sequence: str, sequence_list: list[str],\n",
        "                      k: int, s: int, h: Callable[[str], int]) -> list[float]:\n",
        "  set1 = minimizer_set(first_sequence,k,s,h)\n",
        "  ans = []\n",
        "  for sequence in sequence_list:\n",
        "    cur_set = minimizer_set(sequence,k,s,h)\n",
        "    ans.append(jaccard(set1,cur_set))\n",
        "  return ans"
      ]
    },
    {
      "cell_type": "markdown",
      "metadata": {
        "id": "HQnqQ_7GJ5NT"
      },
      "source": [
        "### Task 2.4: Test your code on small tests\n",
        "\n",
        "Run your function on small debuging lists below and check if the answer is correct. Do not modify the tests, but you can add more of them."
      ]
    },
    {
      "cell_type": "code",
      "execution_count": 10,
      "metadata": {
        "colab": {
          "base_uri": "https://localhost:8080/"
        },
        "id": "ujJEW8K1J5NT",
        "outputId": "d22c1767-c472-42f8-b570-64fb65ca8830"
      },
      "outputs": [
        {
          "output_type": "stream",
          "name": "stdout",
          "text": [
            "minimizer_set('AAACGCAAA', 3, 3, debug_hash)={'AAA', 'AAC', 'CAA', 'ACG'}\n",
            "Result should be {'AAA', 'AAC', 'CAA', 'ACG'}\n",
            "\n",
            "minimizer_set('AAACGCAAAGGGGG', 2, 4, debug_hash)={'AG', 'AA', 'AC', 'CC'}\n",
            "Result should be {'AG', 'AA', 'AC', 'CC'}\n",
            "  note that canonical string of GG is CC\n",
            "\n",
            "minimizer_jaccard(seq1, [seq1, seq2, seq3, seq4], 2, 2, debug_hash)=[1.0, 1.0, 0.6666666666666666, 0.3333333333333333]\n",
            "  results should be [1.0, 1.0, 0.6666666666666666, 0.3333333333333333]\n"
          ]
        }
      ],
      "source": [
        "print(f\"{minimizer_set('AAACGCAAA', 3, 3, debug_hash)=}\")\n",
        "print(f\"Result should be {set(['AAA', 'AAC', 'ACG', 'CAA'])}\")\n",
        "print()\n",
        "print(f\"{minimizer_set('AAACGCAAAGGGGG', 2, 4, debug_hash)=}\")\n",
        "print(f\"Result should be {set(['AA', 'AC', 'AG', 'CC'])}\")\n",
        "print(\"  note that canonical string of GG is CC\")\n",
        "print()\n",
        "\n",
        "seq1 = \"AAACCC\"\n",
        "seq2 = \"GGGTTT\"  # reverse complement of seq1, identical set of canonical k-mers\n",
        "seq3 = \"AAAGTG\"\n",
        "seq4 = \"ACAC\"\n",
        "print(f\"{minimizer_jaccard(seq1, [seq1, seq2, seq3, seq4], 2, 2, debug_hash)=}\")\n",
        "print(f\"  results should be {[1.0, 1.0, 2/3, 1/3]}\")"
      ]
    },
    {
      "cell_type": "markdown",
      "metadata": {
        "id": "Yk5InZLDs14O"
      },
      "source": [
        "## Libraries for tasks 3-6\n",
        "\n",
        "The code below loads several libraries that are often used for data processing and visualization. Feel free to use them in parts 3-6. You can also import additional libraries if needed."
      ]
    },
    {
      "cell_type": "code",
      "execution_count": 11,
      "metadata": {
        "id": "vucNdFVttJnk"
      },
      "outputs": [],
      "source": [
        "import numpy as np\n",
        "import pandas as pd\n",
        "import matplotlib.pyplot as plt\n",
        "import seaborn as sns\n",
        "\n",
        "# TODO: add more libraries if needed"
      ]
    },
    {
      "cell_type": "markdown",
      "metadata": {
        "id": "dlOmS3RG-Ce0"
      },
      "source": [
        "## Task 3: Accuracy of *k*-mer Jaccard index\n",
        "\n",
        "In this task we want to evaluate if Jaccard similarity on a full set of $k$-mers is a suitable measure of sequence similarity. To this end, we will use randomly mutated genomes for different values of mutation probability $p$. We will consider 1-$p$ as the true genome similarity (the percentage of bases that were conserved) and see if the Jaccard similarity is in some way related to this value.\n",
        "\n"
      ]
    },
    {
      "cell_type": "markdown",
      "metadata": {
        "id": "RkuhL_hIy1FA"
      },
      "source": [
        "### Task 3.1. Formula for $k$-mer conservation\n",
        "\n",
        "Consider two sequences where the second one was created from the first by randomly mutation each base with probability $p$ and leaving it the same with probability $(1-p)$ (as in function `mutate` above). Let $f(p, k)$ be a probability that a $k$-mer at a particular fixed position in these genomes does not contain any mutations (all $k$ nucleotides were left the same).\n",
        "\n",
        "Write a mathematical formula for $f(p, k)$ and explain it. You can write your formula directly here or to the accompanying pdf document.\n",
        "\n",
        "We want to compute the probability that action with probability $p$ will be done $0$ out of $k$ times. We can do it by Binomial Probability Formula as $f(p,k)=(1-p)^k$\n"
      ]
    },
    {
      "cell_type": "markdown",
      "metadata": {
        "id": "QaqOaHdc0Adc"
      },
      "source": [
        "### Task 3.2 Compute and show tables\n",
        "\n",
        "Compute a table containing values of $f(p,k)$ for  $p$ from `mutation_probabilities` list and values of $k$=9,13,17. Also compute Jaccard similarities\n",
        "between real genome 0 and all 6 mutated genomes for values of the same list of values of $k$. Print both tables in some easy to read form.\n"
      ]
    },
    {
      "cell_type": "code",
      "execution_count": 21,
      "metadata": {
        "id": "W17LW83B1EAz",
        "outputId": "8887a48b-60f7-4e19-ab62-43813be909a3",
        "colab": {
          "base_uri": "https://localhost:8080/"
        }
      },
      "outputs": [
        {
          "output_type": "stream",
          "name": "stdout",
          "text": [
            "p= 0.01 ,k= 9 ,f(p,k)= 0.9135172474836408\n",
            "p= 0.01 ,k= 13 ,f(p,k)= 0.8775210229989678\n",
            "p= 0.01 ,k= 17 ,f(p,k)= 0.8429431933839268\n",
            "p= 0.05 ,k= 9 ,f(p,k)= 0.6302494097246091\n",
            "p= 0.05 ,k= 13 ,f(p,k)= 0.5133420832795048\n",
            "p= 0.05 ,k= 17 ,f(p,k)= 0.4181203352191771\n",
            "p= 0.1 ,k= 9 ,f(p,k)= 0.3874204890000001\n",
            "p= 0.1 ,k= 13 ,f(p,k)= 0.2541865828329001\n",
            "p= 0.1 ,k= 17 ,f(p,k)= 0.16677181699666577\n",
            "p= 0.2 ,k= 9 ,f(p,k)= 0.13421772800000006\n",
            "p= 0.2 ,k= 13 ,f(p,k)= 0.054975581388800036\n",
            "p= 0.2 ,k= 17 ,f(p,k)= 0.022517998136852502\n",
            "p= 0.3 ,k= 9 ,f(p,k)= 0.04035360699999998\n",
            "p= 0.3 ,k= 13 ,f(p,k)= 0.009688901040699992\n",
            "p= 0.3 ,k= 17 ,f(p,k)= 0.0023263051398720674\n",
            "p= 0.4 ,k= 9 ,f(p,k)= 0.010077695999999997\n",
            "p= 0.4 ,k= 13 ,f(p,k)= 0.0013060694015999993\n",
            "p= 0.4 ,k= 17 ,f(p,k)= 0.00016926659444735988\n"
          ]
        }
      ],
      "source": [
        "def f(p,k):\n",
        "  return (1-p)**k\n",
        "\n",
        "values_k = set([9,13,17])\n",
        "\n",
        "for p in mutation_probabilities:\n",
        "  for k in values_k:\n",
        "    print(\"p=\",p,\",k=\",k,\",f(p,k)=\",f(p,k))"
      ]
    },
    {
      "cell_type": "markdown",
      "metadata": {
        "id": "uPMEGUzfJ5NU"
      },
      "source": [
        "### Task 3.3 Plot(s) and discussion\n",
        "\n",
        "Create plots showing how values in both tables from Task 3.2 change with $1-p$. For example you can create a line plot showing $1-p$ on the x axis (true genome similarity) and the Jaccard similarity (genome similarity estimate) on the y axis. Use one line for each value of $k$; the line connects values for mutated genomes for increasing value of $1-p$. Similarly you can plot values $f(p,k)$ instead od Jaccard. You can also add other plots to support your discussion.\n",
        "\n",
        "Then propose a method how we could estimate $1-p$ from the Jaccard similarity for values of $k$ investigated here using the values you measured or some other calculation you can make. Are some values of $k$ unsuitable (or less suitable) for this purpose? Why is that?"
      ]
    },
    {
      "cell_type": "code",
      "execution_count": 39,
      "metadata": {
        "id": "Fz4oLGC52On5",
        "outputId": "2ed29c93-9193-4483-ae68-fead651754a1",
        "colab": {
          "base_uri": "https://localhost:8080/",
          "height": 449
        }
      },
      "outputs": [
        {
          "output_type": "display_data",
          "data": {
            "text/plain": [
              "<Figure size 640x480 with 1 Axes>"
            ],
            "image/png": "[encoded data removed]"
          },
          "metadata": {}
        }
      ],
      "source": [
        "for k in values_k:\n",
        "  x = []\n",
        "  y = []\n",
        "  for p in mutation_probabilities:\n",
        "      y.append(1-p)\n",
        "      x.append(round(f(p,k),3))\n",
        "  plt.plot(x,y,label=f\"k={k}\")\n",
        "  plt.ylabel(\"1-p\")\n",
        "  plt.xlabel(\"f(p,k)\")\n",
        "plt.show()"
      ]
    },
    {
      "cell_type": "markdown",
      "metadata": {
        "id": "2dH4YuQV3Hbv"
      },
      "source": [
        "Place your discussion here or together with your visualizations to the accompanying pdf document."
      ]
    },
    {
      "cell_type": "markdown",
      "metadata": {
        "id": "ExTc7TVp-Clc"
      },
      "source": [
        "## Task 4: Jaccard index on real genomes\n",
        "\n",
        "* Compare genome 0 to all real genomes using Jaccard similarity on a full set of $k$-mers for $k$=13. Print a table listing these similarities as well as genome descriptions.\n",
        "* Discuss the results. Which other genomes are most similar to genome 0? Can you explain this by looking at their descriptions? Can you make some estimate of the percentage of mutated bases between these pairs of genomes based on your results in Task 3?"
      ]
    },
    {
      "cell_type": "code",
      "execution_count": null,
      "metadata": {
        "id": "LO8FRAdP2Ns9"
      },
      "outputs": [],
      "source": [
        "# TODO place the code for computing and printing the distances here"
      ]
    },
    {
      "cell_type": "markdown",
      "metadata": {
        "id": "XGm9WSte31bX"
      },
      "source": [
        "Place your discussion here or to the accompanying pdf document."
      ]
    },
    {
      "cell_type": "markdown",
      "metadata": {
        "id": "BZBKwNPL-CuU"
      },
      "source": [
        "## Task 5: Accuracy of minimizers\n",
        "\n",
        "Instead of computing Jaccard similarity for the full set of $k$-mers, we can also run it on the set of minimizers. This can be understood as an estimate of the Jaccard similarity on the full set of $k$-mers using smaller memory. In this task we will compare its accuracy to the Jaccard similarity computed for the full set of $k$-mers in Task 3.2, which we consider here as \"the correct answer\".\n",
        "\n",
        "1. Compute the similarity of genome 0 to all mutated genomes using $k$=13 and values of $s$=2,5,10 for minimizers. For hash function use `shash`. Print a table of these values in an easy to read form.\n",
        "2. Compute the difference between the Jaccard similarity values for $k$=13 from Task 3.2 (using all kmers) and the values from Task 5.1 and print a table of these differences in an easy to read form.\n",
        "3. Optionally visualize the values using appropriate plots.\n",
        "4. Discuss your findings. What trends do you see with increasing $s$? What causes these trends? (Explain them based on your understanding of the used algorithms.)"
      ]
    },
    {
      "cell_type": "code",
      "execution_count": null,
      "metadata": {
        "id": "2T4HDJF12M_S"
      },
      "outputs": [],
      "source": [
        "# TODO: you code for computing the values and optionally visualizing them\n",
        "# you can split the code into multiple cells if you wish"
      ]
    },
    {
      "cell_type": "markdown",
      "metadata": {
        "id": "Oon1evGV5H14"
      },
      "source": [
        "Write your discussion here or to the accompaning pdf document."
      ]
    },
    {
      "cell_type": "markdown",
      "metadata": {
        "id": "xle1Niub-C1o"
      },
      "source": [
        "## Task 6: Running time and memory\n",
        "\n",
        "1. Measure the running time of computing the $k$-mer sets on genome 0 using functions `full_kmer_set` and `minimizer_set` for parameters $k$ and $s$ as in Task 5 using `shash` hash function. You can measure time simply using `time.time()` function before and after computation as is done in the downloading genomes section above. This simply measures the wall clock time, not CPU usage. You can also use alternative ways of measuring time.\n",
        "2. As a proxy for memory consumption, report the size of the sets produced in Task 6.1.\n",
        "3. List the times and set sizes as easy-to-read tables or appropriate plots.\n",
        "4. Discuss your findings. How do the parameter values and the choice of algorithm influence the running time and memory? Can you make some recommendations on which method to choose considering all aspects (accuracy, running time and memory)?"
      ]
    },
    {
      "cell_type": "code",
      "execution_count": null,
      "metadata": {
        "id": "IrhBeG1c6fQ4"
      },
      "outputs": [],
      "source": [
        "# TODO: you code for measuring time here, optionally also your visualizations\n",
        "# you can split the code into multiple cells if you wish"
      ]
    },
    {
      "cell_type": "markdown",
      "metadata": {
        "id": "vcVg7ITQ64ev"
      },
      "source": [
        "Write your discussion here or to the accompaning pdf document."
      ]
    }
  ],
  "metadata": {
    "colab": {
      "provenance": [],
      "toc_visible": true
    },
    "kernelspec": {
      "display_name": "Python 3",
      "name": "python3"
    },
    "language_info": {
      "name": "python"
    }
  },
  "nbformat": 4,
  "nbformat_minor": 0
}